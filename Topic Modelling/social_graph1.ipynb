{
 "cells": [
  {
   "cell_type": "code",
   "execution_count": 34,
   "metadata": {},
   "outputs": [
    {
     "name": "stdout",
     "output_type": "stream",
     "text": [
      "[[4 0 0 ... 0 0 0]\n",
      " [0 0 0 ... 0 0 0]\n",
      " [0 0 0 ... 0 0 0]\n",
      " ...\n",
      " [1 0 0 ... 0 0 0]\n",
      " [0 0 0 ... 0 0 0]\n",
      " [0 0 0 ... 0 0 0]]\n"
     ]
    },
    {
     "data": {
      "text/plain": [
       "OutEdgeDataView([(0, 0, {'weight': 4}), (1, 14, {'weight': 1}), (3, 0, {'weight': 1}), (3, 27, {'weight': 1}), (4, 20, {'weight': 1}), (5, 0, {'weight': 2}), (7, 0, {'weight': 2}), (7, 35, {'weight': 1}), (8, 0, {'weight': 1}), (9, 12, {'weight': 1}), (11, 0, {'weight': 2}), (11, 28, {'weight': 1}), (12, 34, {'weight': 1}), (13, 14, {'weight': 1}), (14, 0, {'weight': 2}), (14, 14, {'weight': 2}), (14, 23, {'weight': 1}), (15, 0, {'weight': 2}), (15, 14, {'weight': 2}), (15, 16, {'weight': 1}), (15, 23, {'weight': 1}), (15, 27, {'weight': 1}), (16, 24, {'weight': 2}), (17, 0, {'weight': 4}), (18, 0, {'weight': 1}), (19, 33, {'weight': 2}), (21, 0, {'weight': 1}), (22, 35, {'weight': 1}), (23, 0, {'weight': 1}), (23, 23, {'weight': 1}), (24, 3, {'weight': 1}), (24, 16, {'weight': 1}), (25, 21, {'weight': 1}), (26, 0, {'weight': 1}), (26, 27, {'weight': 1}), (27, 14, {'weight': 1}), (30, 0, {'weight': 1}), (31, 28, {'weight': 1}), (32, 0, {'weight': 2}), (33, 33, {'weight': 3}), (34, 12, {'weight': 2}), (35, 28, {'weight': 4}), (36, 0, {'weight': 1}), (36, 14, {'weight': 1}), (36, 20, {'weight': 1}), (36, 23, {'weight': 1}), (37, 0, {'weight': 1})])"
      ]
     },
     "execution_count": 34,
     "metadata": {},
     "output_type": "execute_result"
    }
   ],
   "source": [
    "import numpy as np\n",
    "import networkx as nx\n",
    "import matplotlib.pyplot as plt\n",
    "%matplotlib inline\n",
    "\n",
    "new_mat=np.load(\"mymatrix1.dat\")\n",
    "new_mat = new_mat.transpose()\n",
    "print(new_mat)\n",
    "# G=nx.read_adjlist(\"mymatrix.dat\", create_using=nx.DiGraph())\n",
    "G=nx.from_numpy_matrix(new_mat,parallel_edges=False,create_using=nx.DiGraph())\n",
    "G.edges(data=True)"
   ]
  },
  {
   "cell_type": "code",
   "execution_count": 35,
   "metadata": {},
   "outputs": [
    {
     "name": "stdout",
     "output_type": "stream",
     "text": [
      "\n",
      "{(0, 0): 4, (1, 14): 1, (3, 0): 1, (3, 27): 1, (4, 20): 1, (5, 0): 2, (7, 0): 2, (7, 35): 1, (8, 0): 1, (9, 12): 1, (11, 0): 2, (11, 28): 1, (12, 34): 1, (13, 14): 1, (14, 0): 2, (14, 14): 2, (14, 23): 1, (15, 0): 2, (15, 14): 2, (15, 16): 1, (15, 23): 1, (15, 27): 1, (16, 24): 2, (17, 0): 4, (18, 0): 1, (19, 33): 2, (21, 0): 1, (22, 35): 1, (23, 0): 1, (23, 23): 1, (24, 3): 1, (24, 16): 1, (25, 21): 1, (26, 0): 1, (26, 27): 1, (27, 14): 1, (30, 0): 1, (31, 28): 1, (32, 0): 2, (33, 33): 3, (34, 12): 2, (35, 28): 4, (36, 0): 1, (36, 14): 1, (36, 20): 1, (36, 23): 1, (37, 0): 1}\n"
     ]
    },
    {
     "data": {
      "image/png": "[encoded data removed]",
      "text/plain": [
       "<matplotlib.figure.Figure at 0x7f1d7c208dd8>"
      ]
     },
     "metadata": {},
     "output_type": "display_data"
    }
   ],
   "source": [
    "print(G)\n",
    "labels = nx.get_edge_attributes(G,'weight')\n",
    "print(labels)\n",
    "\n",
    "\n",
    "pos = nx.spring_layout(G)\n",
    "nx.draw_networkx_nodes(G, pos)\n",
    "nx.draw_networkx_labels(G, pos)\n",
    "nx.draw_networkx_edges(G, pos,edge_labels=labels)\n",
    "# pos=nx.get_node_attributes(G)\n",
    "nx.draw_networkx_edge_labels(G,pos,edge_labels=labels)\n",
    "plt.show()\n",
    "\n",
    "from networkx.drawing.nx_agraph import to_agraph \n",
    "A = to_agraph(G) \n",
    "A.layout('dot')                                                                 \n",
    "A.draw('multi3.png')\n"
   ]
  },
  {
   "cell_type": "code",
   "execution_count": 36,
   "metadata": {},
   "outputs": [
    {
     "data": {
      "text/plain": [
       "[{0,\n",
       "  1,\n",
       "  3,\n",
       "  4,\n",
       "  5,\n",
       "  7,\n",
       "  8,\n",
       "  11,\n",
       "  13,\n",
       "  14,\n",
       "  15,\n",
       "  16,\n",
       "  17,\n",
       "  18,\n",
       "  20,\n",
       "  21,\n",
       "  22,\n",
       "  23,\n",
       "  24,\n",
       "  25,\n",
       "  26,\n",
       "  27,\n",
       "  28,\n",
       "  30,\n",
       "  31,\n",
       "  32,\n",
       "  35,\n",
       "  36,\n",
       "  37},\n",
       " {2},\n",
       " {6},\n",
       " {9, 12, 34},\n",
       " {10},\n",
       " {19, 33},\n",
       " {29},\n",
       " {38},\n",
       " {39}]"
      ]
     },
     "execution_count": 36,
     "metadata": {},
     "output_type": "execute_result"
    }
   ],
   "source": [
    "sorted(nx.weakly_connected_components(G))"
   ]
  },
  {
   "cell_type": "code",
   "execution_count": 37,
   "metadata": {},
   "outputs": [
    {
     "data": {
      "text/plain": [
       "[{0},\n",
       " {23},\n",
       " {14},\n",
       " {1},\n",
       " {2},\n",
       " {27},\n",
       " {3},\n",
       " {20},\n",
       " {4},\n",
       " {5},\n",
       " {6},\n",
       " {28},\n",
       " {35},\n",
       " {7},\n",
       " {8},\n",
       " {12, 34},\n",
       " {9},\n",
       " {10},\n",
       " {11},\n",
       " {13},\n",
       " {16, 24},\n",
       " {15},\n",
       " {17},\n",
       " {18},\n",
       " {33},\n",
       " {19},\n",
       " {21},\n",
       " {22},\n",
       " {25},\n",
       " {26},\n",
       " {29},\n",
       " {30},\n",
       " {31},\n",
       " {32},\n",
       " {36},\n",
       " {37},\n",
       " {38},\n",
       " {39}]"
      ]
     },
     "execution_count": 37,
     "metadata": {},
     "output_type": "execute_result"
    }
   ],
   "source": [
    "sorted(nx.strongly_connected_components(G))"
   ]
  },
  {
   "cell_type": "code",
   "execution_count": null,
   "metadata": {},
   "outputs": [],
   "source": [
    "#DEGREE CENTRALITY"
   ]
  },
  {
   "cell_type": "code",
   "execution_count": 38,
   "metadata": {},
   "outputs": [
    {
     "name": "stdout",
     "output_type": "stream",
     "text": [
      "[(0, 0.4358974358974359), (14, 0.15384615384615385), (23, 0.10256410256410256), (27, 0.07692307692307693), (28, 0.07692307692307693), (12, 0.05128205128205128), (16, 0.05128205128205128), (20, 0.05128205128205128), (33, 0.05128205128205128), (35, 0.05128205128205128), (3, 0.02564102564102564), (21, 0.02564102564102564), (24, 0.02564102564102564), (34, 0.02564102564102564), (1, 0.0), (2, 0.0), (4, 0.0), (5, 0.0), (6, 0.0), (7, 0.0), (8, 0.0), (9, 0.0), (10, 0.0), (11, 0.0), (13, 0.0), (15, 0.0), (17, 0.0), (18, 0.0), (19, 0.0), (22, 0.0), (25, 0.0), (26, 0.0), (29, 0.0), (30, 0.0), (31, 0.0), (32, 0.0), (36, 0.0), (37, 0.0), (38, 0.0), (39, 0.0)]\n"
     ]
    }
   ],
   "source": [
    "deg_cent = nx.in_degree_centrality(G)\n",
    "# print(deg_cent)\n",
    "# print(type(deg_cent))\n",
    "\n",
    "import operator\n",
    "sorted_x = sorted(deg_cent.items(), key=operator.itemgetter(1),reverse=True)\n",
    "print(sorted_x)"
   ]
  },
  {
   "cell_type": "code",
   "execution_count": null,
   "metadata": {},
   "outputs": [],
   "source": [
    "#CLOSENESS CENTRALITY"
   ]
  },
  {
   "cell_type": "code",
   "execution_count": 39,
   "metadata": {},
   "outputs": [
    {
     "name": "stdout",
     "output_type": "stream",
     "text": [
      "{0: 0.42793987621573826, 1: 0.0, 2: 0.0, 3: 0.038461538461538464, 4: 0.0, 5: 0.0, 6: 0.0, 7: 0.0, 8: 0.0, 9: 0.0, 10: 0.0, 11: 0.0, 12: 0.05128205128205128, 13: 0.0, 14: 0.12980769230769232, 15: 0.0, 16: 0.05128205128205128, 17: 0.0, 18: 0.0, 19: 0.0, 20: 0.05128205128205128, 21: 0.02564102564102564, 22: 0.0, 23: 0.10683760683760683, 24: 0.034188034188034185, 25: 0.0, 26: 0.0, 27: 0.08012820512820512, 28: 0.09157509157509157, 29: 0.0, 30: 0.0, 31: 0.0, 32: 0.0, 33: 0.02564102564102564, 34: 0.034188034188034185, 35: 0.05128205128205128, 36: 0.0, 37: 0.0, 38: 0.0, 39: 0.0}\n",
      "<class 'dict'>\n",
      "[(0, 0.42793987621573826), (14, 0.12980769230769232), (23, 0.10683760683760683), (28, 0.09157509157509157), (27, 0.08012820512820512), (12, 0.05128205128205128), (16, 0.05128205128205128), (20, 0.05128205128205128), (35, 0.05128205128205128), (3, 0.038461538461538464), (24, 0.034188034188034185), (34, 0.034188034188034185), (21, 0.02564102564102564), (33, 0.02564102564102564), (1, 0.0), (2, 0.0), (4, 0.0), (5, 0.0), (6, 0.0), (7, 0.0), (8, 0.0), (9, 0.0), (10, 0.0), (11, 0.0), (13, 0.0), (15, 0.0), (17, 0.0), (18, 0.0), (19, 0.0), (22, 0.0), (25, 0.0), (26, 0.0), (29, 0.0), (30, 0.0), (31, 0.0), (32, 0.0), (36, 0.0), (37, 0.0), (38, 0.0), (39, 0.0)]\n"
     ]
    }
   ],
   "source": [
    "close_cent = nx.closeness_centrality(G)\n",
    "print(close_cent)\n",
    "print(type(close_cent))\n",
    "\n",
    "import operator\n",
    "sorted_x1 = sorted(close_cent.items(), key=operator.itemgetter(1),reverse=True)\n",
    "print(sorted_x1)"
   ]
  },
  {
   "cell_type": "code",
   "execution_count": null,
   "metadata": {},
   "outputs": [],
   "source": [
    "#BETWEENNESS CENTRALITY"
   ]
  },
  {
   "cell_type": "code",
   "execution_count": 31,
   "metadata": {},
   "outputs": [
    {
     "name": "stdout",
     "output_type": "stream",
     "text": [
      "{0: 0.0, 1: 0.0, 2: 0.0, 3: 0.005398110661268556, 4: 0.0, 5: 0.0, 6: 0.0, 7: 0.0, 8: 0.0, 9: 0.0, 10: 0.0, 11: 0.0, 12: 0.0006747638326585695, 13: 0.0, 14: 0.0067476383265856945, 15: 0.0, 16: 0.001349527665317139, 17: 0.0, 18: 0.0, 19: 0.0, 20: 0.0, 21: 0.0006747638326585695, 22: 0.0, 23: 0.0, 24: 0.004048582995951417, 25: 0.0, 26: 0.0, 27: 0.005398110661268556, 28: 0.0, 29: 0.0, 30: 0.0, 31: 0.0, 32: 0.0, 33: 0.0, 34: 0.0, 35: 0.001349527665317139, 36: 0.0, 37: 0.0, 38: 0.0, 39: 0.0}\n",
      "<class 'dict'>\n",
      "[(14, 0.0067476383265856945), (3, 0.005398110661268556), (27, 0.005398110661268556), (24, 0.004048582995951417), (16, 0.001349527665317139), (35, 0.001349527665317139), (12, 0.0006747638326585695), (21, 0.0006747638326585695), (0, 0.0), (1, 0.0), (2, 0.0), (4, 0.0), (5, 0.0), (6, 0.0), (7, 0.0), (8, 0.0), (9, 0.0), (10, 0.0), (11, 0.0), (13, 0.0), (15, 0.0), (17, 0.0), (18, 0.0), (19, 0.0), (20, 0.0), (22, 0.0), (23, 0.0), (25, 0.0), (26, 0.0), (28, 0.0), (29, 0.0), (30, 0.0), (31, 0.0), (32, 0.0), (33, 0.0), (34, 0.0), (36, 0.0), (37, 0.0), (38, 0.0), (39, 0.0)]\n"
     ]
    }
   ],
   "source": [
    "betw_cent = nx.betweenness_centrality(G,normalized=True,endpoints=False)\n",
    "print(betw_cent)\n",
    "print(type(betw_cent))\n",
    "\n",
    "import operator\n",
    "sorted_x2 = sorted(betw_cent.items(), key=operator.itemgetter(1),reverse=True)\n",
    "print(sorted_x2)"
   ]
  },
  {
   "cell_type": "code",
   "execution_count": 50,
   "metadata": {},
   "outputs": [
    {
     "name": "stdout",
     "output_type": "stream",
     "text": [
      "[(0, 0.4813558191480189),\n",
      " (33, 0.05877742946707697),\n",
      " (14, 0.04721435031937217),\n",
      " (12, 0.04715937630418186),\n",
      " (34, 0.04427218064460624),\n",
      " (23, 0.026896111734852048),\n",
      " (28, 0.024294670846422103),\n",
      " (24, 0.018165573921345796),\n",
      " (27, 0.015408357941420037),\n",
      " (16, 0.014543435289608591),\n",
      " (3, 0.013797055232883),\n",
      " (35, 0.013497039359117443),\n",
      " (20, 0.013061650992694181),\n",
      " (21, 0.011755485893424395),\n",
      " (1, 0.006530825496345248),\n",
      " (2, 0.006530825496345248),\n",
      " (4, 0.006530825496345248),\n",
      " (5, 0.006530825496345248),\n",
      " (6, 0.006530825496345248),\n",
      " (7, 0.006530825496345248),\n",
      " (8, 0.006530825496345248),\n",
      " (9, 0.006530825496345248),\n",
      " (10, 0.006530825496345248),\n",
      " (11, 0.006530825496345248),\n",
      " (13, 0.006530825496345248),\n",
      " (15, 0.006530825496345248),\n",
      " (17, 0.006530825496345248),\n",
      " (18, 0.006530825496345248),\n",
      " (19, 0.006530825496345248),\n",
      " (22, 0.006530825496345248),\n",
      " (25, 0.006530825496345248),\n",
      " (26, 0.006530825496345248),\n",
      " (29, 0.006530825496345248),\n",
      " (30, 0.006530825496345248),\n",
      " (31, 0.006530825496345248),\n",
      " (32, 0.006530825496345248),\n",
      " (36, 0.006530825496345248),\n",
      " (37, 0.006530825496345248),\n",
      " (38, 0.006530825496345248),\n",
      " (39, 0.006530825496345248)]\n"
     ]
    }
   ],
   "source": [
    "pg = nx.pagerank(G,alpha=0.8)\n",
    "# print(pg)\n",
    "# print(type(pg))\n",
    "\n",
    "import operator\n",
    "from pprint import pprint\n",
    "sorted_x3 = sorted(pg.items(), key=operator.itemgetter(1),reverse=True)\n",
    "pprint(sorted_x3)"
   ]
  },
  {
   "cell_type": "code",
   "execution_count": null,
   "metadata": {},
   "outputs": [],
   "source": []
  }
 ],
 "metadata": {
  "kernelspec": {
   "display_name": "Python 3",
   "language": "python",
   "name": "python3"
  },
  "language_info": {
   "codemirror_mode": {
    "name": "ipython",
    "version": 3
   },
   "file_extension": ".py",
   "mimetype": "text/x-python",
   "name": "python",
   "nbconvert_exporter": "python",
   "pygments_lexer": "ipython3",
   "version": "3.6.4"
  }
 },
 "nbformat": 4,
 "nbformat_minor": 2
}
